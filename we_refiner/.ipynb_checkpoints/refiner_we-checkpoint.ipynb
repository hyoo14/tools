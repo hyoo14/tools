{
 "cells": [
  {
   "cell_type": "code",
   "execution_count": 1,
   "metadata": {
    "collapsed": true
   },
   "outputs": [],
   "source": [
    "id2word = []\n",
    "final_embedding = []\n",
    "\n",
    "word2id = {}"
   ]
  },
  {
   "cell_type": "code",
   "execution_count": 2,
   "metadata": {
    "collapsed": true
   },
   "outputs": [],
   "source": [
    "#with open('w2v_wiki_small2.txt', 'r', encoding='UTF8') as f:\n",
    "with open('w2v_namu.txt', 'r') as f:#, encoding='UTF8') as f:\n",
    "    for i in range(50000):#(50000):\n",
    "        line = f.readline()\n",
    "        sp = line.split()\n",
    "        id2word.append(sp[0])\n",
    "        \n",
    "        word2id[sp[0]] = i\n",
    "        \n",
    "        del sp[0]\n",
    "        final_embedding.append(sp)\n",
    "        \n",
    "        "
   ]
  },
  {
   "cell_type": "code",
   "execution_count": 3,
   "metadata": {},
   "outputs": [
    {
     "name": "stdout",
     "output_type": "stream",
     "text": [
      "1658\n"
     ]
    }
   ],
   "source": [
    "print(word2id['경쟁'])"
   ]
  },
  {
   "cell_type": "code",
   "execution_count": 4,
   "metadata": {
    "collapsed": true
   },
   "outputs": [],
   "source": [
    "#8월 5일 일요일 _라이들을 읽어들여서 속하는지 검사"
   ]
  },
  {
   "cell_type": "code",
   "execution_count": 5,
   "metadata": {
    "collapsed": true
   },
   "outputs": [],
   "source": [
    "def refiner(fname):\n",
    "    ret = []\n",
    "    with open(fname, 'r') as f:\n",
    "        lines = f.readlines()\n",
    "        for line in lines:\n",
    "            line = line.replace('\\n', ' ')\n",
    "            line = line.replace(\"(\", ' ')\n",
    "            line = line.replace(')', ' ') \n",
    "            line = line.replace(',', ' ') \n",
    "            line = line.replace('.', ' ') \n",
    "            line = line.replace('?', ' ') \n",
    "            line = line.replace('!', ' ') \n",
    "            line = line.replace(\"'\", ' ') \n",
    "            line = line.replace('\"', ' ')\n",
    "            line = line.replace('“', ' ')\n",
    "            line = line.replace('”', ' ')\n",
    "            line = line.replace('`', ' ')\n",
    "            \n",
    "            \n",
    "            line = line.replace('‘', ' ')\n",
    "            line = line.replace('’', ' ')\n",
    "            line = line.replace('…', ' ')\n",
    "            \n",
    "            #line = line.replace('`', ' ')\n",
    "            #line = line.replace('`', ' ')\n",
    "            \n",
    "                      \n",
    "                \n",
    "            \n",
    "            #print(line)\n",
    "            sp = line.split()\n",
    "            ret.append(sp)\n",
    "        #sp = lines.split()\n",
    "        #print(lines)\n",
    "        return ret"
   ]
  },
  {
   "cell_type": "code",
   "execution_count": 6,
   "metadata": {},
   "outputs": [
    {
     "name": "stdout",
     "output_type": "stream",
     "text": [
      "500_days_of_summer\n",
      "done/500_days_of_summer.txt\n",
      "aliens_2\n",
      "done/aliens_2.txt\n",
      "avengers\n",
      "done/avengers.txt\n",
      "back_to_the_future\n",
      "done/back_to_the_future.txt\n",
      "cinema_paradiso\n",
      "done/cinema_paradiso.txt\n",
      "dark_knight\n",
      "done/dark_knight.txt\n",
      "finding_nemo\n",
      "done/finding_nemo.txt\n",
      "forrest_gump\n",
      "done/forrest_gump.txt\n",
      "gladiator\n",
      "done/gladiator.txt\n",
      "harry_potter\n",
      "done/harry_potter.txt\n",
      "home_alone\n",
      "done/home_alone.txt\n",
      "inception\n",
      "done/inception.txt\n",
      "inside_out\n",
      "done/inside_out.txt\n",
      "i_am_sam\n",
      "done/i_am_sam.txt\n",
      "jurassic_park\n",
      "done/jurassic_park.txt\n",
      "la_la_land\n",
      "done/la_la_land.txt\n",
      "leon\n",
      "done/leon.txt\n",
      "life_is_beautiful\n",
      "done/life_is_beautiful.txt\n",
      "little_mermaid\n",
      "done/little_mermaid.txt\n",
      "load_of_the_rings\n",
      "done/load_of_the_rings.txt\n",
      "matrix\n",
      "done/matrix.txt\n",
      "new_world\n",
      "done/new_world.txt\n",
      "planet_of_the_apes\n",
      "done/planet_of_the_apes.txt\n",
      "sound_of_music\n",
      "done/sound_of_music.txt\n",
      "terminator\n",
      "done/terminator.txt\n",
      "the_girl_who_leapt_through_time\n",
      "done/the_girl_who_leapt_through_time.txt\n",
      "toy_story_3\n",
      "done/toy_story_3.txt\n",
      "wall_e\n",
      "done/wall_e.txt\n",
      "wreck_it_ralph\n",
      "done/wreck_it_ralph.txt\n",
      "zootopia\n",
      "done/zootopia.txt\n"
     ]
    }
   ],
   "source": [
    "import os#디렉토리 내의 모든 파일의 이름을 얻는다.\n",
    "for root, dirs, files in os.walk('want_to_refine/'):\n",
    "    for fname in files:\n",
    "        full_fname = os.path.join(root, fname)\n",
    "        \n",
    "        mname = fname.replace('.txt', '')\n",
    "        print(mname)\n",
    "    \n",
    "        \n",
    "        texts = refiner(full_fname)\n",
    "        \n",
    "        open_file = 'done/'\n",
    "        open_file += fname\n",
    "        f = open(open_file, 'w', encoding = 'utf-8')\n",
    "        \n",
    "        for i in range(len(texts)):\n",
    "            for j in range( len(texts[i]) ):\n",
    "                if texts[i][j] in id2word:\n",
    "                    print(texts[i][j], end=' ', file = f)\n",
    "                else:\n",
    "                    word = texts[i][j]\n",
    "                    \n",
    "                    for k in range(len( word ) -1 ):\n",
    "                        if word[:-k-1] in id2word:\n",
    "                            print( word[:-k-1], end=' ', file = f)\n",
    "                            break\n",
    "                        \n",
    "        f.close()\n",
    "        print(open_file)\n",
    "        "
   ]
  },
  {
   "cell_type": "code",
   "execution_count": null,
   "metadata": {
    "collapsed": true
   },
   "outputs": [],
   "source": []
  }
 ],
 "metadata": {
  "kernelspec": {
   "display_name": "Python 3",
   "language": "python",
   "name": "python3"
  },
  "language_info": {
   "codemirror_mode": {
    "name": "ipython",
    "version": 3
   },
   "file_extension": ".py",
   "mimetype": "text/x-python",
   "name": "python",
   "nbconvert_exporter": "python",
   "pygments_lexer": "ipython3",
   "version": "3.6.1"
  }
 },
 "nbformat": 4,
 "nbformat_minor": 2
}

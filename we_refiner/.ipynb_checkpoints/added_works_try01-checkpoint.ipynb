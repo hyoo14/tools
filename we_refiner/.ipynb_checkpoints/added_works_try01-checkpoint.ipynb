{
 "cells": [
  {
   "cell_type": "code",
   "execution_count": null,
   "metadata": {
    "collapsed": true
   },
   "outputs": [],
   "source": []
  },
  {
   "cell_type": "code",
   "execution_count": null,
   "metadata": {
    "collapsed": true
   },
   "outputs": [],
   "source": []
  },
  {
   "cell_type": "code",
   "execution_count": 1,
   "metadata": {
    "collapsed": true
   },
   "outputs": [],
   "source": [
    "#8월 2일 목요일 updated. 워드투벡터 모델의 결과물인 임베딩을 저장해놓은 텍스트파일에서 단어와 그 임베딩을 불러오는 과정이다."
   ]
  },
  {
   "cell_type": "code",
   "execution_count": 2,
   "metadata": {
    "collapsed": true
   },
   "outputs": [],
   "source": [
    "id2word = []\n",
    "final_embedding = []\n",
    "\n",
    "word2id = {}"
   ]
  },
  {
   "cell_type": "code",
   "execution_count": 3,
   "metadata": {
    "collapsed": true
   },
   "outputs": [],
   "source": [
    "with open('w2v_namu.txt', 'r', encoding='UTF8') as f:\n",
    "    for i in range(50000):#(50000):\n",
    "        line = f.readline()\n",
    "        sp = line.split()\n",
    "        id2word.append(sp[0])\n",
    "        \n",
    "        word2id[sp[0]] = i\n",
    "        \n",
    "        del sp[0]\n",
    "        final_embedding.append(sp)\n",
    "        \n",
    "        "
   ]
  },
  {
   "cell_type": "code",
   "execution_count": 4,
   "metadata": {
    "collapsed": true
   },
   "outputs": [],
   "source": [
    "#print(id2word)\n",
    "#print(len(final_embedding[0]))\n",
    "#print(word2id)"
   ]
  },
  {
   "cell_type": "code",
   "execution_count": null,
   "metadata": {
    "collapsed": true
   },
   "outputs": [],
   "source": []
  },
  {
   "cell_type": "code",
   "execution_count": 5,
   "metadata": {
    "collapsed": true
   },
   "outputs": [],
   "source": [
    "#8월 5일 일요일 - Movie Ontology generator"
   ]
  },
  {
   "cell_type": "code",
   "execution_count": 6,
   "metadata": {
    "collapsed": true
   },
   "outputs": [],
   "source": [
    "movie_on = {}"
   ]
  },
  {
   "cell_type": "code",
   "execution_count": 14,
   "metadata": {},
   "outputs": [],
   "source": [
    "import os#디렉토리 내의 모든 파일의 이름을 얻는다.\n",
    "for root, dirs, files in os.walk('final_refined/done'):\n",
    "    for fname in files:\n",
    "        full_fname = os.path.join(root, fname)\n",
    "        \n",
    "        mname = fname.replace('.txt', '')\n",
    "        \n",
    "        movie_on[mname] = []\n",
    "        \n",
    "        \n",
    "        with open(full_fname, 'r') as f:\n",
    "            line = f.readline()\n",
    "            sp = line.split()\n",
    "            \n",
    "            for i in range(len(sp)):\n",
    "                if sp[i] in id2word:\n",
    "                    movie_on[mname].append(sp[i])\n",
    "        "
   ]
  },
  {
   "cell_type": "code",
   "execution_count": 15,
   "metadata": {
    "collapsed": true
   },
   "outputs": [],
   "source": [
    "query = \"로봇 사람 지배\" #target matrix"
   ]
  },
  {
   "cell_type": "code",
   "execution_count": 16,
   "metadata": {
    "collapsed": true
   },
   "outputs": [],
   "source": [
    "query_list = query.split()\n",
    "query_score = []\n",
    "query_"
   ]
  },
  {
   "cell_type": "code",
   "execution_count": 17,
   "metadata": {},
   "outputs": [
    {
     "name": "stdout",
     "output_type": "stream",
     "text": [
      "['로봇', '사람', '지배']\n"
     ]
    }
   ],
   "source": [
    "print(query_list)"
   ]
  },
  {
   "cell_type": "code",
   "execution_count": null,
   "metadata": {
    "collapsed": true
   },
   "outputs": [],
   "source": []
  },
  {
   "cell_type": "code",
   "execution_count": null,
   "metadata": {
    "collapsed": true
   },
   "outputs": [],
   "source": []
  },
  {
   "cell_type": "code",
   "execution_count": 18,
   "metadata": {},
   "outputs": [
    {
     "name": "stdout",
     "output_type": "stream",
     "text": [
      "500_days_of_summer\n",
      "avengers\n",
      "dark_knight\n",
      "harry_potter\n",
      "inception\n",
      "la_la_land\n",
      "load_of_the_rings\n",
      "matrix\n",
      "new_world\n",
      "the_girl_who_leapt_through_time\n"
     ]
    }
   ],
   "source": [
    "for i in movie_on:\n",
    "    print(i)"
   ]
  },
  {
   "cell_type": "code",
   "execution_count": null,
   "metadata": {
    "collapsed": true
   },
   "outputs": [],
   "source": []
  }
 ],
 "metadata": {
  "kernelspec": {
   "display_name": "Python 3",
   "language": "python",
   "name": "python3"
  },
  "language_info": {
   "codemirror_mode": {
    "name": "ipython",
    "version": 3
   },
   "file_extension": ".py",
   "mimetype": "text/x-python",
   "name": "python",
   "nbconvert_exporter": "python",
   "pygments_lexer": "ipython3",
   "version": "3.6.1"
  }
 },
 "nbformat": 4,
 "nbformat_minor": 2
}

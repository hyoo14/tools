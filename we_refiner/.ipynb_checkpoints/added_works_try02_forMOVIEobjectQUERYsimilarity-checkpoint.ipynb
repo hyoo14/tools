{
 "cells": [
  {
   "cell_type": "code",
   "execution_count": null,
   "metadata": {
    "collapsed": true
   },
   "outputs": [],
   "source": []
  },
  {
   "cell_type": "code",
   "execution_count": null,
   "metadata": {
    "collapsed": true
   },
   "outputs": [],
   "source": []
  },
  {
   "cell_type": "code",
   "execution_count": 1,
   "metadata": {
    "collapsed": true
   },
   "outputs": [],
   "source": [
    "#8월 2일 목요일 updated. 워드투벡터 모델의 결과물인 임베딩을 저장해놓은 텍스트파일에서 단어와 그 임베딩을 불러오는 과정이다."
   ]
  },
  {
   "cell_type": "code",
   "execution_count": 2,
   "metadata": {
    "collapsed": true
   },
   "outputs": [],
   "source": [
    "id2word = []\n",
    "final_embedding = []\n",
    "\n",
    "word2id = {}"
   ]
  },
  {
   "cell_type": "code",
   "execution_count": 3,
   "metadata": {
    "collapsed": true
   },
   "outputs": [],
   "source": [
    "with open('w2v_namu.txt', 'r', encoding='UTF8') as f:\n",
    "    for i in range(50000):#(50000):\n",
    "        line = f.readline()\n",
    "        sp = line.split()\n",
    "        id2word.append(sp[0])\n",
    "        \n",
    "        word2id[sp[0]] = i\n",
    "        \n",
    "        del sp[0]\n",
    "        final_embedding.append(sp)\n",
    "        \n",
    "        "
   ]
  },
  {
   "cell_type": "code",
   "execution_count": 4,
   "metadata": {
    "collapsed": true
   },
   "outputs": [],
   "source": [
    "#print(id2word)\n",
    "#print(len(final_embedding[0]))\n",
    "#print(word2id)"
   ]
  },
  {
   "cell_type": "code",
   "execution_count": null,
   "metadata": {
    "collapsed": true
   },
   "outputs": [],
   "source": []
  },
  {
   "cell_type": "code",
   "execution_count": 5,
   "metadata": {
    "collapsed": true
   },
   "outputs": [],
   "source": [
    "#8월 5일 일요일 - Movie Ontology generator"
   ]
  },
  {
   "cell_type": "code",
   "execution_count": 6,
   "metadata": {
    "collapsed": true
   },
   "outputs": [],
   "source": [
    "movie_on = {}"
   ]
  },
  {
   "cell_type": "code",
   "execution_count": 7,
   "metadata": {
    "collapsed": true
   },
   "outputs": [],
   "source": [
    "import os#디렉토리 내의 모든 파일의 이름을 얻는다.\n",
    "for root, dirs, files in os.walk('final_refined/done'):\n",
    "    for fname in files:\n",
    "        full_fname = os.path.join(root, fname)\n",
    "        \n",
    "        mname = fname.replace('.txt', '')\n",
    "        \n",
    "        movie_on[mname] = []\n",
    "        \n",
    "        \n",
    "        with open(full_fname, 'r') as f:\n",
    "            line = f.readline()\n",
    "            sp = line.split()\n",
    "            \n",
    "            for i in range(len(sp)):\n",
    "                if sp[i] in id2word:\n",
    "                    movie_on[mname].append(sp[i])\n",
    "        "
   ]
  },
  {
   "cell_type": "code",
   "execution_count": null,
   "metadata": {
    "collapsed": true
   },
   "outputs": [],
   "source": []
  },
  {
   "cell_type": "code",
   "execution_count": 8,
   "metadata": {
    "collapsed": true
   },
   "outputs": [],
   "source": [
    "import numpy as np\n",
    "from numpy import dot\n",
    "from numpy.linalg import norm\n",
    "from numpy import array\n",
    "final_embeddings = np.array( final_embedding, dtype = float )"
   ]
  },
  {
   "cell_type": "code",
   "execution_count": 12,
   "metadata": {
    "collapsed": true
   },
   "outputs": [],
   "source": [
    "\n",
    "\n",
    "def cos_sim(word_a, word_b):\n",
    "    \n",
    "    if word_a not in id2word:\n",
    "        return 0\n",
    "    \n",
    "    if word_b not in id2word:\n",
    "        return 0\n",
    "    \n",
    "    a = final_embeddings[word2id[word_a]]\n",
    "    b = final_embeddings[word2id[word_b]]\n",
    "    \n",
    "    return ( dot(a,b) ) / (norm(a) * norm(b) ) \n",
    "    "
   ]
  },
  {
   "cell_type": "code",
   "execution_count": 13,
   "metadata": {},
   "outputs": [
    {
     "name": "stdout",
     "output_type": "stream",
     "text": [
      "0.146684079658\n"
     ]
    }
   ],
   "source": [
    "print(cos_sim('컴퓨터', '인공지능'))"
   ]
  },
  {
   "cell_type": "code",
   "execution_count": null,
   "metadata": {
    "collapsed": true
   },
   "outputs": [],
   "source": []
  },
  {
   "cell_type": "code",
   "execution_count": 21,
   "metadata": {},
   "outputs": [],
   "source": [
    "#상위 스코어, 단어 반환하는 함수\n",
    "def high_sim(query, mname):\n",
    "    three_scores = []\n",
    "    three_words = []\n",
    "    for i in range(3):\n",
    "        score = cos_sim(query[i], movie_on[mname][0])\n",
    "        word = movie_on[mname][0]\n",
    "        \n",
    "        for j in range(1, len(movie_on[mname])):\n",
    "            new_score = cos_sim(query[i], movie_on[mname][j])\n",
    "            new_word = movie_on[mname][j]\n",
    "            if new_score > score :\n",
    "                score = new_score\n",
    "                word = new_word\n",
    "        three_scores.append(score)\n",
    "        three_words.append(word)\n",
    "    return three_scores, three_words, three_scores[0]+three_scores[1]+three_scores[2], three_scores[0]*three_scores[1]*three_scores[2]\n",
    "        "
   ]
  },
  {
   "cell_type": "code",
   "execution_count": 30,
   "metadata": {
    "collapsed": true
   },
   "outputs": [],
   "source": [
    "query = \"서사 거대 전쟁\" #target matrix\n",
    "query_list = query.split()\n",
    "query_score = []\n",
    "query_word = []"
   ]
  },
  {
   "cell_type": "code",
   "execution_count": 31,
   "metadata": {},
   "outputs": [
    {
     "name": "stdout",
     "output_type": "stream",
     "text": [
      "500_days_of_summer\n",
      "([0.62447470338974709, 0.41298269551256955, 0.34497778658482775], ['위한', '순수', '싫어'], 1.3824351854871444, 0.088968821189828476)\n",
      "\n",
      "avengers\n",
      "([0.72730192647085223, 1.0000000000000002, 1.0000000000000002], ['슈퍼히어로', '거대', '전쟁'], 2.7273019264708527, 0.72730192647085246)\n",
      "\n",
      "dark_knight\n",
      "([0.66359490222711814, 0.33898580749493085, 0.45074692849327086], ['덴트', '속', '작전'], 1.4533276382153197, 0.10139518520862972)\n",
      "\n",
      "harry_potter\n",
      "([0.70777892917590979, 0.35762956226502057, 0.34286336541595308], ['신비한', '진정', '신'], 1.4082718568568833, 0.086786490026663915)\n",
      "\n",
      "inception\n",
      "([0.61386018760651961, 1.0000000000000002, 1.0000000000000002], ['인셉션', '거대', '전쟁'], 2.6138601876065204, 0.61386018760651984)\n",
      "\n",
      "la_la_land\n",
      "([0.63322773231746399, 0.31352638415845968, 0.30122683262516986], ['엠마', '엠마', '희망'], 1.2479809491010936, 0.059803647877927767)\n",
      "\n",
      "load_of_the_rings\n",
      "([0.6152041005147677, 1.0000000000000002, 1.0000000000000002], ['없는', '거대', '전쟁'], 2.6152041005147684, 0.61520410051476793)\n",
      "\n",
      "matrix\n",
      "([0.64641489111176231, 0.38256275130583856, 0.38535542947092005], ['열린', '평범', '인류'], 1.414333071888521, 0.095296185470799488)\n",
      "\n",
      "new_world\n",
      "([0.6184974567507, 0.26180775637578479, 1.0000000000000002], ['나하', '설계', '전쟁'], 1.880305213126485, 0.16192743147602978)\n",
      "\n",
      "the_girl_who_leapt_through_time\n",
      "([0.63482561549050576, 0.39718944224619385, 0.34169916097015124], ['불상사', '유리', '전'], 1.3737142187068507, 0.086158087624283286)\n",
      "\n"
     ]
    }
   ],
   "source": [
    "for i in movie_on:\n",
    "    print(i, end='\\n')\n",
    "    print( high_sim(query_list, i) )\n",
    "    print()\n",
    "        \n",
    "    "
   ]
  },
  {
   "cell_type": "code",
   "execution_count": null,
   "metadata": {
    "collapsed": true
   },
   "outputs": [],
   "source": []
  }
 ],
 "metadata": {
  "kernelspec": {
   "display_name": "Python 3",
   "language": "python",
   "name": "python3"
  },
  "language_info": {
   "codemirror_mode": {
    "name": "ipython",
    "version": 3
   },
   "file_extension": ".py",
   "mimetype": "text/x-python",
   "name": "python",
   "nbconvert_exporter": "python",
   "pygments_lexer": "ipython3",
   "version": "3.6.1"
  }
 },
 "nbformat": 4,
 "nbformat_minor": 2
}

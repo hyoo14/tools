{
 "cells": [
  {
   "cell_type": "code",
   "execution_count": 3,
   "metadata": {
    "collapsed": true
   },
   "outputs": [],
   "source": [
    "id2word = []\n",
    "final_embedding = []\n",
    "\n",
    "word2id = {}\n",
    "\n",
    "with open('w2v_namu.txt', 'r', encoding='UTF8') as f:\n",
    "    for i in range(50000):#(50000):\n",
    "        line = f.readline()\n",
    "        sp = line.split()\n",
    "        id2word.append(sp[0])\n",
    "        \n",
    "        word2id[sp[0]] = i\n",
    "        \n",
    "        del sp[0]\n",
    "        final_embedding.append(sp)\n",
    "        "
   ]
  },
  {
   "cell_type": "code",
   "execution_count": 10,
   "metadata": {
    "collapsed": true
   },
   "outputs": [],
   "source": [
    "check  =  '놀란'"
   ]
  },
  {
   "cell_type": "code",
   "execution_count": 11,
   "metadata": {},
   "outputs": [
    {
     "name": "stdout",
     "output_type": "stream",
     "text": [
      "있습니다!\n"
     ]
    }
   ],
   "source": [
    "if check in id2word:\n",
    "    print(\"있습니다!\")\n",
    "else:\n",
    "    print(\"없습니다 ㅠㅠ\")"
   ]
  },
  {
   "cell_type": "code",
   "execution_count": null,
   "metadata": {
    "collapsed": true
   },
   "outputs": [],
   "source": []
  }
 ],
 "metadata": {
  "kernelspec": {
   "display_name": "Python 3",
   "language": "python",
   "name": "python3"
  },
  "language_info": {
   "codemirror_mode": {
    "name": "ipython",
    "version": 3
   },
   "file_extension": ".py",
   "mimetype": "text/x-python",
   "name": "python",
   "nbconvert_exporter": "python",
   "pygments_lexer": "ipython3",
   "version": "3.6.1"
  }
 },
 "nbformat": 4,
 "nbformat_minor": 2
}

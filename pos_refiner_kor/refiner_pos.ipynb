{
 "cells": [
  {
   "cell_type": "code",
   "execution_count": 1,
   "metadata": {
    "collapsed": true
   },
   "outputs": [],
   "source": [
    "import os\n",
    "import subprocess"
   ]
  },
  {
   "cell_type": "code",
   "execution_count": null,
   "metadata": {
    "collapsed": true
   },
   "outputs": [],
   "source": []
  },
  {
   "cell_type": "code",
   "execution_count": 2,
   "metadata": {
    "collapsed": true
   },
   "outputs": [],
   "source": [
    "#SMASH 실행을 통해 가능한 모든 POS tagging\n",
    "    #subprocess.Popen([r\"c:\\Users\\Spectre\\forNLP\\HW#4_cp\\real_trial_embedding_and_pos\\SMASH.exe\"])\n",
    "    \n",
    "\n",
    "#HMM Viterbi 모델을 통해 가장 확률이 높은 POS tagging을 선택\n",
    "    #subprocess.call(\" python hmm_viterbi.py 1\", shell=True)"
   ]
  },
  {
   "cell_type": "code",
   "execution_count": 3,
   "metadata": {
    "collapsed": true
   },
   "outputs": [],
   "source": [
    "def refiner(fname):\n",
    "    ret = []\n",
    "    with open(fname, 'r') as f:\n",
    "        lines = f.readlines()\n",
    "        \n",
    "        input_file = open('input.txt', 'w')\n",
    "        \n",
    "        for line in lines:\n",
    "            \n",
    "            print(line, file = input_file)\n",
    "        \n",
    "        input_file.close()\n",
    "        \n",
    "        subprocess.Popen([r\"c:\\Users\\Spectre\\forNLP\\HW#4_cp\\_refiner\\pos_refiner\\pos_refiner_kor\\SMASH.exe\"])\n",
    "        \n",
    "        \n",
    "        subprocess.call(\" python hmm_viterbi.py 1\", shell=True)\n",
    "        \n",
    "        output_file = open('output.txt', 'r')\n",
    "        \n",
    "        lines = output_file.readlines()\n",
    "        \n",
    "        #print(lines)\n",
    "        \n",
    "        output_file.close()\n",
    "        \n",
    "    return lines\n",
    "            \n",
    "            "
   ]
  },
  {
   "cell_type": "code",
   "execution_count": null,
   "metadata": {
    "collapsed": true
   },
   "outputs": [],
   "source": []
  },
  {
   "cell_type": "code",
   "execution_count": 4,
   "metadata": {},
   "outputs": [
    {
     "name": "stdout",
     "output_type": "stream",
     "text": [
      "aliens_2\n",
      "__refined/aliens_2.txt\n",
      "back_to_the_future\n",
      "__refined/back_to_the_future.txt\n",
      "cinema_paradiso\n",
      "__refined/cinema_paradiso.txt\n",
      "finding_nemo\n",
      "__refined/finding_nemo.txt\n",
      "forrest_gump\n",
      "__refined/forrest_gump.txt\n",
      "gladiator\n",
      "__refined/gladiator.txt\n",
      "home_alone\n",
      "__refined/home_alone.txt\n",
      "inside_out\n",
      "__refined/inside_out.txt\n",
      "i_am_sam\n",
      "__refined/i_am_sam.txt\n",
      "jurassic_park\n",
      "__refined/jurassic_park.txt\n",
      "leon\n",
      "__refined/leon.txt\n",
      "life_is_beautiful\n",
      "__refined/life_is_beautiful.txt\n",
      "little_mermaid\n",
      "__refined/little_mermaid.txt\n",
      "planet_of_the_apes\n",
      "__refined/planet_of_the_apes.txt\n",
      "sound_of_music\n",
      "__refined/sound_of_music.txt\n",
      "terminator\n",
      "__refined/terminator.txt\n",
      "toy_story_3\n",
      "__refined/toy_story_3.txt\n",
      "wall_e\n",
      "__refined/wall_e.txt\n",
      "wreck_it_ralph\n",
      "__refined/wreck_it_ralph.txt\n",
      "zootopia\n",
      "__refined/zootopia.txt\n"
     ]
    }
   ],
   "source": [
    "for root, dirs, files in os.walk('__crude/'):\n",
    "    for fname in files:\n",
    "        full_fname = os.path.join(root, fname)\n",
    "        \n",
    "        mname = fname.replace('.txt', '')\n",
    "        print(mname)\n",
    "    \n",
    "        \n",
    "        texts = refiner(full_fname)\n",
    "        \n",
    "        open_file = '__refined/'\n",
    "        open_file += fname\n",
    "        f = open(open_file, 'w')\n",
    "        \n",
    "        for line in texts:\n",
    "            print(line, end=' ', file = f)\n",
    "        #for i in range(len(texts)):\n",
    "        #    for j in range( len(texts[i]) ):\n",
    "        #        print(texts[i][j], end=' ', file = f)\n",
    "                               \n",
    "        f.close()\n",
    "        print(open_file)"
   ]
  },
  {
   "cell_type": "code",
   "execution_count": null,
   "metadata": {
    "collapsed": true
   },
   "outputs": [],
   "source": []
  }
 ],
 "metadata": {
  "kernelspec": {
   "display_name": "Python 3",
   "language": "python",
   "name": "python3"
  },
  "language_info": {
   "codemirror_mode": {
    "name": "ipython",
    "version": 3
   },
   "file_extension": ".py",
   "mimetype": "text/x-python",
   "name": "python",
   "nbconvert_exporter": "python",
   "pygments_lexer": "ipython3",
   "version": "3.6.1"
  }
 },
 "nbformat": 4,
 "nbformat_minor": 2
}

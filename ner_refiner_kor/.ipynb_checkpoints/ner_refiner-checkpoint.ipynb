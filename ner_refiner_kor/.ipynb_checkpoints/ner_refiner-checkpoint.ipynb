{
 "cells": [
  {
   "cell_type": "code",
   "execution_count": 1,
   "metadata": {
    "collapsed": true
   },
   "outputs": [],
   "source": [
    "import subprocess"
   ]
  },
  {
   "cell_type": "code",
   "execution_count": null,
   "metadata": {
    "collapsed": true
   },
   "outputs": [],
   "source": []
  },
  {
   "cell_type": "code",
   "execution_count": null,
   "metadata": {
    "collapsed": true
   },
   "outputs": [],
   "source": []
  },
  {
   "cell_type": "code",
   "execution_count": null,
   "metadata": {
    "collapsed": true
   },
   "outputs": [],
   "source": []
  },
  {
   "cell_type": "code",
   "execution_count": 2,
   "metadata": {
    "collapsed": true
   },
   "outputs": [],
   "source": [
    "def refiner(fname):\n",
    "    ret = []\n",
    "    with open(fname, 'r') as f:\n",
    "        lines = f.readlines()\n",
    "        for line in lines:\n",
    "            \n",
    "            file1 = open('element.txt', 'w')\n",
    "            print(line, file = file1)\n",
    "            file1.close()\n",
    "            \n",
    "            subprocess.call(\" python ner_gen.py 1\", shell=True)\n",
    "                      \n",
    "            file1 = open('mid_element.txt', 'r')\n",
    "            line = file1.readline()\n",
    "            file1.close()\n",
    "            \n",
    "            sp = line.split()\n",
    "            \n",
    "            \n",
    "            \n",
    "            \n",
    "            ret.append(sp)\n",
    "        #sp = lines.split()\n",
    "        #print(lines)\n",
    "        return ret"
   ]
  },
  {
   "cell_type": "code",
   "execution_count": null,
   "metadata": {
    "collapsed": true
   },
   "outputs": [],
   "source": []
  },
  {
   "cell_type": "code",
   "execution_count": 3,
   "metadata": {},
   "outputs": [
    {
     "name": "stdout",
     "output_type": "stream",
     "text": [
      "500_days_of_summer\n",
      "___refined/500_days_of_summer.txt\n",
      "aliens_2\n",
      "___refined/aliens_2.txt\n",
      "avengers\n",
      "___refined/avengers.txt\n",
      "back_to_the_future\n",
      "___refined/back_to_the_future.txt\n",
      "cinema_paradiso\n",
      "___refined/cinema_paradiso.txt\n",
      "dark_knight\n",
      "___refined/dark_knight.txt\n",
      "finding_nemo\n",
      "___refined/finding_nemo.txt\n",
      "forrest_gump\n",
      "___refined/forrest_gump.txt\n",
      "gladiator\n",
      "___refined/gladiator.txt\n",
      "harry_potter\n",
      "___refined/harry_potter.txt\n",
      "home_alone\n",
      "___refined/home_alone.txt\n",
      "inception\n",
      "___refined/inception.txt\n",
      "inside_out\n",
      "___refined/inside_out.txt\n",
      "i_am_sam\n",
      "___refined/i_am_sam.txt\n",
      "jurassic_park\n",
      "___refined/jurassic_park.txt\n",
      "la_la_land\n",
      "___refined/la_la_land.txt\n",
      "leon\n",
      "___refined/leon.txt\n",
      "life_is_beautiful\n",
      "___refined/life_is_beautiful.txt\n",
      "little_mermaid\n",
      "___refined/little_mermaid.txt\n",
      "load_of_the_rings\n",
      "___refined/load_of_the_rings.txt\n",
      "matrix\n",
      "___refined/matrix.txt\n",
      "new_world\n",
      "___refined/new_world.txt\n",
      "planet_of_the_apes\n",
      "___refined/planet_of_the_apes.txt\n",
      "sound_of_music\n",
      "___refined/sound_of_music.txt\n",
      "terminator\n",
      "___refined/terminator.txt\n",
      "the_girl_who_leapt_through_time\n",
      "___refined/the_girl_who_leapt_through_time.txt\n",
      "toy_story_3\n",
      "___refined/toy_story_3.txt\n",
      "wall_e\n",
      "___refined/wall_e.txt\n",
      "wreck_it_ralph\n",
      "___refined/wreck_it_ralph.txt\n",
      "zootopia\n",
      "___refined/zootopia.txt\n"
     ]
    }
   ],
   "source": [
    "import os#디렉토리 내의 모든 파일의 이름을 얻는다.\n",
    "for root, dirs, files in os.walk('___crude/'):\n",
    "    for fname in files:\n",
    "        full_fname = os.path.join(root, fname)\n",
    "        \n",
    "        mname = fname.replace('.txt', '')\n",
    "        print(mname)\n",
    "    \n",
    "        \n",
    "        texts = refiner(full_fname)\n",
    "        \n",
    "        open_file = '___refined/'\n",
    "        open_file += fname\n",
    "        f = open(open_file, 'w')\n",
    "        \n",
    "        for i in range(len(texts)):\n",
    "            for j in range( len(texts[i]) ):\n",
    "                print(texts[i][j], end=' ', file = f)\n",
    "                        \n",
    "        f.close()\n",
    "        print(open_file)\n",
    "        "
   ]
  },
  {
   "cell_type": "code",
   "execution_count": null,
   "metadata": {
    "collapsed": true
   },
   "outputs": [],
   "source": []
  }
 ],
 "metadata": {
  "kernelspec": {
   "display_name": "Python 3",
   "language": "python",
   "name": "python3"
  },
  "language_info": {
   "codemirror_mode": {
    "name": "ipython",
    "version": 3
   },
   "file_extension": ".py",
   "mimetype": "text/x-python",
   "name": "python",
   "nbconvert_exporter": "python",
   "pygments_lexer": "ipython3",
   "version": "3.6.1"
  }
 },
 "nbformat": 4,
 "nbformat_minor": 2
}

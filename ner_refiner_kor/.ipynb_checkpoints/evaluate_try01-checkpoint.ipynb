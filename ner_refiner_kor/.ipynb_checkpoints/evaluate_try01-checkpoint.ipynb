{
 "cells": [
  {
   "cell_type": "code",
   "execution_count": 1,
   "metadata": {},
   "outputs": [
    {
     "name": "stdout",
     "output_type": "stream",
     "text": [
      "Randomly initializing word vectors\n",
      "Reloading the latest trained model...\n",
      "INFO:tensorflow:Restoring parameters from results/test/model.weights/\n",
      "Testing model over test set\n",
      "acc : 92.34 - f1 : 50.91\n"
     ]
    }
   ],
   "source": [
    "# -*- coding: utf-8 -*-'\n",
    "import model\n",
    "import utils\n",
    "import sys\n",
    "from importlib import reload#\n",
    "\n",
    "\n",
    "reload(sys)\n",
    "\n",
    "#sys.setdefaultencoding('utf-8') #python3 do not need (StackOverflow.com)\n",
    "\n",
    "\n",
    "#import tensorflow as tf\n",
    "\n",
    "\n",
    "# create instance of config\n",
    "config = utils.Config()\n",
    "\n",
    "# build model\n",
    "model = model.NERmodel(config)\n",
    "model.build()\n",
    "model.restore_session(config.dir_model)\n",
    "\n",
    "#saver = tf.train.Saver()\n",
    "#with tf.Session() as sess :\n",
    "#    saver.restore(sess, config.dir_model)\n",
    "\n",
    "# create dataset\n",
    "test  = utils.data_read(config.filename_test, config.processing_word,\n",
    "                            config.processing_tag, config.max_iter)\n",
    "\n",
    "# evaluate and interact\n",
    "print (\"Testing model over test set\")\n",
    "res = model.run_evaluate(test)\n",
    "print(\"acc : \"+str('%.2f'%res['acc'])+\" - \"+\"f1 : \"+str('%.2f'%res['f1']))\n",
    "\n",
    "\n",
    "\n",
    "\n"
   ]
  },
  {
   "cell_type": "code",
   "execution_count": 2,
   "metadata": {
    "collapsed": true
   },
   "outputs": [],
   "source": [
    "#input example\n",
    "#input_sent= ['23/SN', '일/NNB', '기성용/NNP', '의/JKG' ,'활약/NNG', '으로/JKB', '스완지시티/NNP', '는/JX', '리버풀/NNP', '전/NNG', '에서/JKB', '승리/NNG', '를/JKO', '얻/VV', '었/EP', '다/EC', './SF']\n",
    "f = open('../../output.txt', 'r')\n",
    "line = f.readline()\n",
    "line = line.replace('+', ' ')\n",
    "input_sent = line.split()\n",
    "\n",
    "f.close()\n"
   ]
  },
  {
   "cell_type": "code",
   "execution_count": 3,
   "metadata": {
    "collapsed": true
   },
   "outputs": [],
   "source": [
    "res = model.predict(input_sent)\n",
    "\n",
    "f = open('ne_resluts.txt', 'w')\n",
    "\n",
    "for inseq, label in zip(input_sent,res) :\n",
    "    print (inseq+\" \"+label, file = f)\n",
    "    \n",
    "\n",
    "f.close()"
   ]
  },
  {
   "cell_type": "code",
   "execution_count": 4,
   "metadata": {
    "collapsed": true
   },
   "outputs": [],
   "source": []
  },
  {
   "cell_type": "code",
   "execution_count": null,
   "metadata": {
    "collapsed": true
   },
   "outputs": [],
   "source": []
  }
 ],
 "metadata": {
  "kernelspec": {
   "display_name": "Python 3",
   "language": "python",
   "name": "python3"
  },
  "language_info": {
   "codemirror_mode": {
    "name": "ipython",
    "version": 3
   },
   "file_extension": ".py",
   "mimetype": "text/x-python",
   "name": "python",
   "nbconvert_exporter": "python",
   "pygments_lexer": "ipython3",
   "version": "3.6.1"
  }
 },
 "nbformat": 4,
 "nbformat_minor": 2
}

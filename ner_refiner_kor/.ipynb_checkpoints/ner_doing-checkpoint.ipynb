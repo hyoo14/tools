{
 "cells": [
  {
   "cell_type": "code",
   "execution_count": 4,
   "metadata": {},
   "outputs": [
    {
     "name": "stdout",
     "output_type": "stream",
     "text": [
      "model done!\n",
      "ner done!\n"
     ]
    }
   ],
   "source": [
    "import operator\n",
    "import os\n",
    "import subprocess\n",
    "#HMM Viterbi 모델을 통해 가장 확률이 높은 POS tagging을 선택\n",
    "\n",
    "\n",
    "subprocess.call(\" python model.py 1\", shell=True)\n",
    "\n",
    "print('model done!')\n",
    "\n",
    "subprocess.call(\" python ner_gen.py 1\", shell=True)\n",
    "    \n",
    "print('ner done!')\n",
    "    #f = open('ner/code_share/ner_resluts.txt', 'r')\n",
    "    #lines = f.readlines()\n",
    "    #print(liens)\n",
    "    #f.close()"
   ]
  },
  {
   "cell_type": "code",
   "execution_count": null,
   "metadata": {
    "collapsed": true
   },
   "outputs": [],
   "source": []
  }
 ],
 "metadata": {
  "kernelspec": {
   "display_name": "Python 3",
   "language": "python",
   "name": "python3"
  },
  "language_info": {
   "codemirror_mode": {
    "name": "ipython",
    "version": 3
   },
   "file_extension": ".py",
   "mimetype": "text/x-python",
   "name": "python",
   "nbconvert_exporter": "python",
   "pygments_lexer": "ipython3",
   "version": "3.6.1"
  }
 },
 "nbformat": 4,
 "nbformat_minor": 2
}

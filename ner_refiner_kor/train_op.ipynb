{
 "cells": [
  {
   "cell_type": "code",
   "execution_count": 1,
   "metadata": {},
   "outputs": [
    {
     "name": "stdout",
     "output_type": "stream",
     "text": [
      "Building vocab(data vocabulary)...\n",
      "- done. 8152 tokens\n",
      "Building vocab(embedding vocabulary)...\n",
      "- done. 30222 tokens\n",
      "Writing vocab(# of covered words with pre-trained embedding)...\n",
      "- done. 5456 tokens\n",
      "Writing vocab(# of NEtag)...\n",
      "- done. 11 tokens\n",
      "Writing vocab(# of char)...\n",
      "- done. 901 tokens\n",
      "Randomly initializing word vectors\n",
      "Epoch 1 out of 10\n",
      "acc : 85.31 - f1 : 0.00\n",
      "new best score\n",
      "Epoch 2 out of 10\n",
      "acc : 86.78 - f1 : 14.01\n",
      "new best score\n",
      "Epoch 3 out of 10\n",
      "acc : 88.10 - f1 : 25.15\n",
      "new best score\n",
      "Epoch 4 out of 10\n",
      "acc : 89.21 - f1 : 32.43\n",
      "new best score\n",
      "Epoch 5 out of 10\n",
      "acc : 89.87 - f1 : 40.56\n",
      "new best score\n",
      "Epoch 6 out of 10\n",
      "acc : 89.35 - f1 : 39.76\n",
      "Epoch 7 out of 10\n",
      "acc : 90.57 - f1 : 45.22\n",
      "new best score\n",
      "Epoch 8 out of 10\n",
      "acc : 90.89 - f1 : 47.76\n",
      "new best score\n",
      "Epoch 9 out of 10\n",
      "acc : 90.43 - f1 : 46.96\n",
      "Epoch 10 out of 10\n",
      "acc : 90.03 - f1 : 47.03\n"
     ]
    }
   ],
   "source": [
    "import utils\n",
    "import model\n",
    "\n",
    "# data build for wordembeddings\n",
    "utils.data_build()\n",
    "\n",
    "# create instance of config\n",
    "config = utils.Config()\n",
    "\n",
    "# build model\n",
    "model = model.NERmodel(config)\n",
    "model.build()\n",
    "\n",
    "# read datasets\n",
    "dev   = utils.data_read(config.filename_dev, config.processing_word,\n",
    "                  config.processing_tag, config.max_iter)\n",
    "train = utils.data_read(config.filename_train, config.processing_word,\n",
    "                  config.processing_tag, config.max_iter)\n",
    "\n",
    "# train model\n",
    "model.train(train, dev)\n"
   ]
  },
  {
   "cell_type": "code",
   "execution_count": null,
   "metadata": {
    "collapsed": true
   },
   "outputs": [],
   "source": []
  }
 ],
 "metadata": {
  "kernelspec": {
   "display_name": "Python 3",
   "language": "python",
   "name": "python3"
  },
  "language_info": {
   "codemirror_mode": {
    "name": "ipython",
    "version": 3
   },
   "file_extension": ".py",
   "mimetype": "text/x-python",
   "name": "python",
   "nbconvert_exporter": "python",
   "pygments_lexer": "ipython3",
   "version": "3.6.1"
  }
 },
 "nbformat": 4,
 "nbformat_minor": 2
}
